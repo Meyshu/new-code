#meyshu
{
  "nbformat": 4,
  "nbformat_minor": 0,
  "metadata": {
    "colab": {
      "name": "Untitled1.ipynb",
      "provenance": [],
      "authorship_tag": "ABX9TyNq5Cu56IuZ+1WP0fmtIghP",
      "include_colab_link": true
    },
    "kernelspec": {
      "name": "python3",
      "display_name": "Python 3"
    }
  },
  "cells": [
    {
      "cell_type": "markdown",
      "metadata": {
        "id": "view-in-github",
        "colab_type": "text"
      },
      "source": [
        "<a href=\"https://colab.research.google.com/github/Meyshu/new-code/blob/main/Untitled1.ipynb\" target=\"_parent\"><img src=\"https://colab.research.google.com/assets/colab-badge.svg\" alt=\"Open In Colab\"/></a>"
      ]
    },
    {
      "cell_type": "code",
      "metadata": {
        "colab": {
          "base_uri": "https://localhost:8080/"
        },
        "id": "3MKOtOtnRJGn",
        "outputId": "d2e4c7f9-8bbd-4a75-b1ec-25e7e30d2707"
      },
      "source": [
        "courses = []\r\n",
        "Key = 'random'\r\n",
        "def main():\r\n",
        "    print('MENU')\r\n",
        "    print('1. Add course')\r\n",
        "    print('2. Complete course')\r\n",
        "    print('3. View courses')\r\n",
        "    print('4. Exit')\r\n",
        "    choice = input('Enter Choice:')\r\n",
        "    return choice\r\n",
        "\r\n",
        "while Key != '4':\r\n",
        "    # main will return the choice\r\n",
        "    Key = main()\r\n",
        "    if Key == '1':\r\n",
        "        course = input('Enter course name :  ')\r\n",
        "        courses.append(course)\r\n",
        "        print('Course', course, 'added\\n')\r\n",
        "    elif Key == '2':\r\n",
        "        course = input('Enter completed Course name: ')\r\n",
        "        if course in courses:\r\n",
        "            courses.remove(course)\r\n",
        "            print(course, 'course completed' )\r\n",
        "        else:\r\n",
        "            print('Not found', course)\r\n",
        "    elif Key == '3':\r\n",
        "        print('View the courses:')\r\n",
        "        for course in courses:\r\n",
        "            print(course)\r\n",
        "    elif Key == '4':\r\n",
        "        print('___Exiting___\\n')\r\n",
        "    else:\r\n",
        "        print('Enter Choice between (1-4): \\n')"
      ],
      "execution_count": 1,
      "outputs": [
        {
          "output_type": "stream",
          "text": [
            "MENU\n",
            "1. Add course\n",
            "2. Complete course\n",
            "3. View courses\n",
            "4. Exit\n",
            "Enter Choice:1\n",
            "Enter course name :  ai\n",
            "Course ai added\n",
            "\n",
            "MENU\n",
            "1. Add course\n",
            "2. Complete course\n",
            "3. View courses\n",
            "4. Exit\n",
            "Enter Choice:4\n",
            "___Exiting___\n",
            "\n"
          ],
          "name": "stdout"
        }
      ]
    }
  ]
}
